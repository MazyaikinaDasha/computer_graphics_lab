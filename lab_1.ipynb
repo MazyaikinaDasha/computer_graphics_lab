{
  "nbformat": 4,
  "nbformat_minor": 0,
  "metadata": {
    "colab": {
      "name": "lab_1.ipynb",
      "provenance": [],
      "collapsed_sections": [],
      "authorship_tag": "ABX9TyPuK9Ro+sMDWl3Glzgbx5ab"
    },
    "kernelspec": {
      "name": "python3",
      "display_name": "Python 3"
    },
    "language_info": {
      "name": "python"
    }
  },
  "cells": [
    {
      "cell_type": "markdown",
      "source": [
        "**1. Работа с изображениями.**\n"
      ],
      "metadata": {
        "id": "jieDiBKKUM0a"
      }
    },
    {
      "cell_type": "markdown",
      "source": [
        "*   Выбрать язык программирования и библиотеку для записи изображений в файл.\n",
        "\n",
        "\n",
        "\n",
        "\n"
      ],
      "metadata": {
        "id": "f_BdkyclUWfl"
      }
    },
    {
      "cell_type": "markdown",
      "source": [
        "* Создать матрицу размера H*W, заполнить её элементы нулевыми значениями, сохранить в виде полутонового (одноканального) 8-битового изображения высотой H и шириной W, убедиться, что полученное изображение открывается средствами операционной системы и полностью чёрное.\n",
        "* Создать матрицу размера H*W, заполнить её элементы значениями, равными 255, сохранить в виде полутонового (одноканального) 8-битового изображения высотой H и шириной W, убедиться, что полученное изображение открывается средствами операционной системы и полностью белое.\n",
        "* Создать матрицу размера H*W*3, заполнить её элементы значениями, равными (255, 0, 0), сохранить в виде цветного (трёхканального) 8-битового изображения высотой H и шириной W, убедиться, что полученное изображение открывается средствами операционной системы и полностью красное.\n",
        "* Создать матрицу размера H*W*3, заполнить её элементы произвольными значениями по выбранной схеме (например, значение элемента равно сумме его координат по модулю 256), сохранить в виде 8-битового изображения высотой H и шириной W, убедиться, что полученное изображение открывается средствами операционной системы (в предложенном примере должен получиться плавный градиент от чёрного цвета в верхнем левом углу изображения).\n"
      ],
      "metadata": {
        "id": "9edPCL-CU2Gf"
      }
    },
    {
      "cell_type": "markdown",
      "source": [
        "**2. Работа с изображениями (ООП)**"
      ],
      "metadata": {
        "id": "YvKlFp9SVJtY"
      }
    },
    {
      "cell_type": "markdown",
      "source": [
        "* Создать класс для хранения изображения в памяти в виде массива. Пример реализации представлен ниже"
      ],
      "metadata": {
        "id": "xJ0WxGzUV6TY"
      }
    },
    {
      "cell_type": "code",
      "source": [
        "class Color:\n",
        "    def __init__(self, r: int, g: int, b: int):\n",
        "        self._r = r\n",
        "        self._g = g\n",
        "        self._b = b\n",
        "\n",
        "    def as_list(self):\n",
        "        return [\n",
        "            self._r,\n",
        "            self._g,\n",
        "            self._b ,\n",
        "        ]\n",
        "\n"
      ],
      "metadata": {
        "id": "-7KB7iujWH6q"
      },
      "execution_count": null,
      "outputs": []
    },
    {
      "cell_type": "code",
      "source": [
        "import numpy as np\n",
        "from PIL import Image as PILImage\n",
        "\n",
        "class Image:\n",
        "    def __init__(self,\n",
        "                 width: int,\n",
        "                 height: int,\n",
        "                 fill_color: Color = Color(0, 0, 0)):\n",
        "        self._width = width\n",
        "        self._height = height\n",
        "        self._matrix = np.empty((height, width, 4)).astype(np.uint8)\n",
        "        self._matrix[:, :] = fill_color.as_list()\n",
        "\n",
        "    def save_image(self, path: str = \"image.png\"):\n",
        "        PILImage.fromarray(self._matrix[::-1]).save(path)\n",
        "\n",
        "    def width(self):\n",
        "        return self._width\n",
        "\n",
        "    def height(self):\n",
        "        return self._height"
      ],
      "metadata": {
        "id": "jtAi3-GOuVLE"
      },
      "execution_count": null,
      "outputs": []
    },
    {
      "cell_type": "markdown",
      "source": [
        "**3. Отрисовка прямых линий** "
      ],
      "metadata": {
        "id": "6Pg-4WyIvz8n"
      }
    },
    {
      "cell_type": "markdown",
      "source": [
        "Реализовать все описанные в лекциях алгоритмы отрисовки прямых (до алгоритма Брезенхема включительно)."
      ],
      "metadata": {
        "id": "fBvBYYwIwCI_"
      }
    },
    {
      "cell_type": "markdown",
      "source": [
        "**4. Работа с трёхмерной моделью (вершины)**"
      ],
      "metadata": {
        "id": "Frm-2MsPxkWJ"
      }
    },
    {
      "cell_type": "markdown",
      "source": [
        "Создать класс, содержащий трёхмерную модель в виде массив трёхмерных координат точек (для может потребоваться создать класс трёхмерных координат). "
      ],
      "metadata": {
        "id": "gZeVBnF6xxL5"
      }
    },
    {
      "cell_type": "markdown",
      "source": [
        "Считать из приложенного файла obj строки, содержащие информацию о вершинах модели в объект созданного класса:\n",
        "v X1 Y1 Z1\n"
      ],
      "metadata": {
        "id": "igplim46ythr"
      }
    },
    {
      "cell_type": "markdown",
      "source": [
        "**5. Отрисовка вершин трёхмерной модели**"
      ],
      "metadata": {
        "id": "KEWpjpwgyyOy"
      }
    },
    {
      "cell_type": "markdown",
      "source": [
        "Нарисовать вершины модели (игнорируя координату Z) на изображении"
      ],
      "metadata": {
        "id": "_xcGMGo3MrLD"
      }
    },
    {
      "cell_type": "markdown",
      "source": [
        "**6. Работа с трёхмерной моделью (полигоны)**"
      ],
      "metadata": {
        "id": "XlltvksqMw-Z"
      }
    },
    {
      "cell_type": "markdown",
      "source": [
        "Считать из приложенного файла строки, содержащие информацию о полигонах модели.\n",
        "\n",
        "Сведения о полигонах в файле хранятся в формате:\n",
        "f v1/vt1/vn1 v2/vt2/vn2 v3/vt3/vn3\n",
        "\n",
        "В рамках лабораторной загрузить в память необходимо только первые значения в каждой тройке – номера вершин, загруженных ранее.\n",
        "Обратите внимание, что вершины нумеруются, начиная с единицы.\n"
      ],
      "metadata": {
        "id": "23kMOtFQM6m4"
      }
    },
    {
      "cell_type": "markdown",
      "source": [
        "**7. Отрисовка рёбер трёхмерной модели**"
      ],
      "metadata": {
        "id": "jEcU9pdtNL8u"
      }
    },
    {
      "cell_type": "markdown",
      "source": [
        "Отрисовать все рёбра всех полигонов модели с помощью алгоритма Брезенхема (координаты вершин округляем до ближайшего целого)."
      ],
      "metadata": {
        "id": "6Ep2hLAtNSHG"
      }
    },
    {
      "cell_type": "markdown",
      "source": [
        ""
      ],
      "metadata": {
        "id": "kTFGQv6NNUm-"
      }
    }
  ]
}
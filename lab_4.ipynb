{
  "nbformat": 4,
  "nbformat_minor": 0,
  "metadata": {
    "colab": {
      "name": "lab_4.ipynb",
      "provenance": [],
      "authorship_tag": "ABX9TyMG6ULd5UYPr8conwO25iJT"
    },
    "kernelspec": {
      "name": "python3",
      "display_name": "Python 3"
    },
    "language_info": {
      "name": "python"
    }
  },
  "cells": [
    {
      "cell_type": "markdown",
      "source": [
        "Реализовать продвинутое освещение посредством метода затенения Гуро."
      ],
      "metadata": {
        "id": "5yVtJoYHQAXp"
      }
    },
    {
      "cell_type": "markdown",
      "source": [
        "Для этого необходимо будет использовать нормали ко всем вершинам модели (можно загрузить из модели либо вычислить, усреднив нормали ко всем полигонам, соседним с вершиной).\n",
        "\n",
        "Для каждой вершины вычислить освещение этой вершины.\n",
        "\n",
        "Для каждой точки полигона вычислять освещение через барицентрические координаты относительно вершин этого полигона\n"
      ],
      "metadata": {
        "id": "KhBkLY1vQC8f"
      }
    },
    {
      "cell_type": "markdown",
      "source": [
        "Пусть $l_{0}$,$l_{1}$,$l_{2}$ – соответственно равны"
      ],
      "metadata": {
        "id": "1nOKH7x1TI8i"
      }
    },
    {
      "cell_type": "markdown",
      "source": [
        "$l_{0} = \\frac{\\langle \\overline{n_0}, \\overline{l}\\rangle}{\\parallel \\overline{n_0} \\parallel \\parallel \\overline{l} \\parallel}$\n",
        "\n",
        "$l_{1} = \\frac{\\langle \\overline{n_1}, \\overline{l}\\rangle}{\\parallel \\overline{n_1} \\parallel \\parallel \\overline{l} \\parallel}$\n",
        "\n",
        "$l_{2} = \\frac{\\langle \\overline{n_2}, \\overline{l}\\rangle}{\\parallel \\overline{n_2} \\parallel \\parallel \\overline{l} \\parallel}$\n",
        "\n",
        "\n"
      ],
      "metadata": {
        "id": "KHVe5PemSlci"
      }
    },
    {
      "cell_type": "markdown",
      "source": [
        "где  $\\overline{l}$ – направление света, а $\\overline{n_{0}}$ , $\\overline{n_{1}}$, $\\overline{n_{2}}$  – нормали соответствующих вершин треугольника."
      ],
      "metadata": {
        "id": "xMX1NAkjTgMI"
      }
    },
    {
      "cell_type": "markdown",
      "source": [
        "Тогда значение яркости пиксела равно"
      ],
      "metadata": {
        "id": "jy5Xb-0LULZO"
      }
    },
    {
      "cell_type": "markdown",
      "source": [
        "255*($λ_{0}$ $l_{0}$+$λ_{1}$ $l_{1}$+$λ_{2}$ $l_{2}$ )"
      ],
      "metadata": {
        "id": "zPtkvRueUpB9"
      }
    },
    {
      "cell_type": "markdown",
      "source": [
        ""
      ],
      "metadata": {
        "id": "V9RTCa4JVMOG"
      }
    }
  ]
}
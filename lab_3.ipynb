{
  "nbformat": 4,
  "nbformat_minor": 0,
  "metadata": {
    "colab": {
      "name": "lab_3.ipynb",
      "provenance": [],
      "authorship_tag": "ABX9TyMMlt6w7fnVwv7bPwSOFj1d"
    },
    "kernelspec": {
      "name": "python3",
      "display_name": "Python 3"
    },
    "language_info": {
      "name": "python"
    }
  },
  "cells": [
    {
      "cell_type": "markdown",
      "source": [
        "**1. Проективное преобразование**"
      ],
      "metadata": {
        "id": "zXfB4kXvASXQ"
      }
    },
    {
      "cell_type": "markdown",
      "source": [
        "Заменить преобразование к экранным координатам на проективное преобразование"
      ],
      "metadata": {
        "id": "1DjMPRzlAUwO"
      }
    },
    {
      "cell_type": "markdown",
      "source": [
        "\\begin{bmatrix}u\\\\v\\\\1\\end{bmatrix}∼\\begin{bmatrix}a_{x}&0&u_{0}\\\\0&a_{y}&v_{0}\\\\0&0&1\\end{bmatrix}\\begin{bmatrix}X\\\\Y\\\\Z\\end{bmatrix}\n",
        "\n",
        "\n"
      ],
      "metadata": {
        "id": "eyWpg-5NCh8Y"
      }
    },
    {
      "cell_type": "markdown",
      "source": [
        "где (u, v) – экранные координаты, $a_{x}$, $a_{y}$ – масштаб, ($u_{0}$, $v_{0}$) – центр изображения."
      ],
      "metadata": {
        "id": "vNrNC39CMPE3"
      }
    },
    {
      "cell_type": "markdown",
      "source": [
        "Чтобы проективное преобразование к координате Z всех точек модели необходимо добавить фиксированное значение (не менее 0.1)."
      ],
      "metadata": {
        "id": "28XNpiVOA7ke"
      }
    },
    {
      "cell_type": "markdown",
      "source": [
        "\n",
        "**2. Поворот модели**"
      ],
      "metadata": {
        "id": "6zI33DENCUuu"
      }
    },
    {
      "cell_type": "markdown",
      "source": [
        "\\begin{bmatrix}\\acute{X}\\\\ \\acute{Y}\\\\ \\acute{Z}\\end{bmatrix} = R\\begin{bmatrix}{X}\\\\ {Y}\\\\ {Z}\\end{bmatrix}"
      ],
      "metadata": {
        "id": "m-irCQ3AM_GD"
      }
    },
    {
      "cell_type": "markdown",
      "source": [
        "Для начала рекомендуется попробовать реализовать поворот вокруг оси Y. Такой поворот проще всего визуально отследить и проверить.\n",
        "\n"
      ],
      "metadata": {
        "id": "YojO9EmuNu6N"
      }
    },
    {
      "cell_type": "markdown",
      "source": [
        ""
      ],
      "metadata": {
        "id": "CdjooVpyOJas"
      }
    },
    {
      "cell_type": "markdown",
      "source": [
        "\\"
      ],
      "metadata": {
        "id": "46ZdmPU7MnF6"
      }
    }
  ]
}